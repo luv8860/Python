{
 "cells": [
  {
   "cell_type": "code",
   "execution_count": 2,
   "metadata": {},
   "outputs": [],
   "source": [
    "import numpy as np\n",
    "from scipy import stats"
   ]
  },
  {
   "cell_type": "markdown",
   "metadata": {},
   "source": [
    "<p>Q1 & 2 Calculate the mean, median, mode and standard deviation for the problem\n",
    "statements 1& 2.</p>\n",
    "<ul><p>The marks awarded for an assignment set for a Year 8 class of 20 students were as\n",
    "follows:</p>\n",
    "<p>6 7 5 7 7 8 7 6 9 7 4 10 6 8 8 9 5 6 4 8</p></ul>\n",
    "<ul><p>The number of calls from motorists per day for roadside service was recorded for a\n",
    "particular month:</p>\n",
    "<p>28, 122, 217, 130, 120, 86, 80, 90, 140, 120, 70, 40, 145, 113, 90, 68, 174, 194, 170,\n",
    "100, 75, 104, 97, 75,\n",
    "123, 100, 75, 104, 97, 75, 123, 100, 89, 120, 109</p></ul>"
   ]
  },
  {
   "cell_type": "code",
   "execution_count": 7,
   "metadata": {},
   "outputs": [
    {
     "name": "stdout",
     "output_type": "stream",
     "text": [
      "Enter all the marks awarded6 7 5 7 7 8 7 6 9 7 4 10 6 8 8 9 5 6 4 8\n",
      "mean:6.85\n",
      "mean:7.0\n",
      "mode:7\n"
     ]
    }
   ],
   "source": [
    "#CASE 1\n",
    "a=list(map(int,input(\"Enter all the marks awarded\").split()))\n",
    "a=np.array(a)\n",
    "print(\"mean:\"+str(np.mean(a)))\n",
    "print(\"mean:\"+str(np.median(a)))\n",
    "print(\"mode:\"+str(stats.mode(a)[0][0]))"
   ]
  },
  {
   "cell_type": "code",
   "execution_count": 8,
   "metadata": {},
   "outputs": [
    {
     "name": "stdout",
     "output_type": "stream",
     "text": [
      "Enter all the marks awarded28, 122, 217, 130, 120, 86, 80, 90, 140, 120, 70, 40, 145, 113, 90, 68, 174, 194, 170, 100, 75, 104, 97, 75, 123, 100, 75, 104, 97, 75, 123, 100, 89, 120, 109\n",
      "mean:107.51428571428572\n",
      "mean:100.0\n",
      "mode:75\n"
     ]
    }
   ],
   "source": [
    "#CASE 2\n",
    "a=list(map(int,input(\"Enter all the marks awarded\").split(',')))\n",
    "a=np.array(a)\n",
    "print(\"mean:\"+str(np.mean(a)))\n",
    "print(\"mean:\"+str(np.median(a)))\n",
    "print(\"mode:\"+str(stats.mode(a)[0][0]))"
   ]
  },
  {
   "cell_type": "markdown",
   "metadata": {},
   "source": [
    "Q3. <p>The number of times I go to the gym in weekdays, are given below along with its\n",
    "associated probability:</p>\n",
    "<p>x = 0, 1, 2, 3, 4, 5</p>\n",
    "<p>f(x) = 0.09, 0.15, 0.40, 0.25, 0.10, 0.01</p>\n",
    "<p>Calculate the mean no. of workouts in a week. Also evaluate the variance involved in\n",
    "it.</p>"
   ]
  },
  {
   "cell_type": "code",
   "execution_count": 20,
   "metadata": {},
   "outputs": [],
   "source": [
    "import pandas as pd\n",
    "d={\"x\":[0, 1, 2, 3, 4, 5],\"f(x)\":[0.09, 0.15, 0.40, 0.25, 0.10, 0.01]}\n",
    "df=pd.DataFrame(data=d)\n",
    "df[\"x.f(x)\"]=df[\"x\"]*df[\"f(x)\"]"
   ]
  },
  {
   "cell_type": "code",
   "execution_count": 21,
   "metadata": {},
   "outputs": [
    {
     "name": "stdout",
     "output_type": "stream",
     "text": [
      "Mean of data=2.15\n"
     ]
    }
   ],
   "source": [
    "meu=sum(df[\"x.f(x)\"])/sum(df[\"f(x)\"])\n",
    "print(\"Mean of data=\"+str(meu))"
   ]
  },
  {
   "cell_type": "code",
   "execution_count": 23,
   "metadata": {},
   "outputs": [
    {
     "data": {
      "text/html": [
       "<div>\n",
       "<style scoped>\n",
       "    .dataframe tbody tr th:only-of-type {\n",
       "        vertical-align: middle;\n",
       "    }\n",
       "\n",
       "    .dataframe tbody tr th {\n",
       "        vertical-align: top;\n",
       "    }\n",
       "\n",
       "    .dataframe thead th {\n",
       "        text-align: right;\n",
       "    }\n",
       "</style>\n",
       "<table border=\"1\" class=\"dataframe\">\n",
       "  <thead>\n",
       "    <tr style=\"text-align: right;\">\n",
       "      <th></th>\n",
       "      <th>x</th>\n",
       "      <th>f(x)</th>\n",
       "      <th>x.f(x)</th>\n",
       "      <th>x-meu</th>\n",
       "      <th>f(x-meu)^2</th>\n",
       "    </tr>\n",
       "  </thead>\n",
       "  <tbody>\n",
       "    <tr>\n",
       "      <th>0</th>\n",
       "      <td>0</td>\n",
       "      <td>0.09</td>\n",
       "      <td>0.00</td>\n",
       "      <td>-2.15</td>\n",
       "      <td>0.416025</td>\n",
       "    </tr>\n",
       "    <tr>\n",
       "      <th>1</th>\n",
       "      <td>1</td>\n",
       "      <td>0.15</td>\n",
       "      <td>0.15</td>\n",
       "      <td>-1.15</td>\n",
       "      <td>0.198375</td>\n",
       "    </tr>\n",
       "    <tr>\n",
       "      <th>2</th>\n",
       "      <td>2</td>\n",
       "      <td>0.40</td>\n",
       "      <td>0.80</td>\n",
       "      <td>-0.15</td>\n",
       "      <td>0.009000</td>\n",
       "    </tr>\n",
       "    <tr>\n",
       "      <th>3</th>\n",
       "      <td>3</td>\n",
       "      <td>0.25</td>\n",
       "      <td>0.75</td>\n",
       "      <td>0.85</td>\n",
       "      <td>0.180625</td>\n",
       "    </tr>\n",
       "    <tr>\n",
       "      <th>4</th>\n",
       "      <td>4</td>\n",
       "      <td>0.10</td>\n",
       "      <td>0.40</td>\n",
       "      <td>1.85</td>\n",
       "      <td>0.342250</td>\n",
       "    </tr>\n",
       "    <tr>\n",
       "      <th>5</th>\n",
       "      <td>5</td>\n",
       "      <td>0.01</td>\n",
       "      <td>0.05</td>\n",
       "      <td>2.85</td>\n",
       "      <td>0.081225</td>\n",
       "    </tr>\n",
       "  </tbody>\n",
       "</table>\n",
       "</div>"
      ],
      "text/plain": [
       "   x  f(x)  x.f(x)  x-meu  f(x-meu)^2\n",
       "0  0  0.09    0.00  -2.15    0.416025\n",
       "1  1  0.15    0.15  -1.15    0.198375\n",
       "2  2  0.40    0.80  -0.15    0.009000\n",
       "3  3  0.25    0.75   0.85    0.180625\n",
       "4  4  0.10    0.40   1.85    0.342250\n",
       "5  5  0.01    0.05   2.85    0.081225"
      ]
     },
     "execution_count": 23,
     "metadata": {},
     "output_type": "execute_result"
    }
   ],
   "source": [
    "# Here we will take population variance as we ae not told about its nature'\n",
    "df[\"x-meu\"]=df[\"x\"]-meu\n",
    "df[\"f(x-meu)^2\"]=df[\"f(x)\"]*df[\"x-meu\"]**2\n",
    "df"
   ]
  },
  {
   "cell_type": "code",
   "execution_count": 26,
   "metadata": {},
   "outputs": [
    {
     "name": "stdout",
     "output_type": "stream",
     "text": [
      "Variance:0.20458333333333334\n"
     ]
    }
   ],
   "source": [
    "var=sum(df[\"f(x-meu)^2\"])/df.shape[0]\n",
    "print(\"Variance:\"+str(var))"
   ]
  },
  {
   "cell_type": "markdown",
   "metadata": {},
   "source": [
    "Q4. Let the continuous random variable D denote the diameter of the hole drilled in an\n",
    "aluminum sheet. The target diameter to be achieved is 12.5mm. Random\n",
    "disturbances in the process often result in inaccuracy.\n",
    "Historical data shows that the distribution of D can be modelled by the PDF (d) =\n",
    "20e−20(d−12.5), d ≥ 12.5. If a part with diameter > 12.6 mm needs to be scrapped,\n",
    "what is the proportion of those parts? What is the CDF when the diameter is of 11\n",
    "mm? What is your conclusion regarding the proportion of scraps?"
   ]
  },
  {
   "cell_type": "code",
   "execution_count": null,
   "metadata": {},
   "outputs": [],
   "source": [
    "# f(x)=20e−20(d−12.5) x>=12.5\n",
    "# by integrating the above equation by keeping limits 12.5 and infinity\n",
    "# p=0.135"
   ]
  },
  {
   "cell_type": "markdown",
   "metadata": {},
   "source": [
    "Q5. A company manufactures LED bulbs with a faulty rate of 30%. If I randomly select 6\n",
    "chosen LEDs, what is the probability of having 2 faulty LEDs in my sample?\n",
    "Calculate the average value of this process. Also evaluate the standard deviation\n",
    "associated with it."
   ]
  },
  {
   "cell_type": "code",
   "execution_count": 8,
   "metadata": {},
   "outputs": [
    {
     "name": "stdout",
     "output_type": "stream",
     "text": [
      "Probability: 0.3241349999999999\n"
     ]
    }
   ],
   "source": [
    "#By Maths\n",
    "import math\n",
    "p=30/100\n",
    "n=6\n",
    "r=2\n",
    "val=math.factorial(n)/(math.factorial(r)*math.factorial(n-r))*p**r*(1-p)**(n-r)\n",
    "print(\"Probability:\",val)"
   ]
  },
  {
   "cell_type": "code",
   "execution_count": 5,
   "metadata": {},
   "outputs": [],
   "source": [
    "#By scipy stats\n",
    "from scipy import stats\n",
    "import seaborn as sns\n",
    "data=stats.binom.rvs(n=6,p=0.3,size=1000)"
   ]
  },
  {
   "cell_type": "code",
   "execution_count": 6,
   "metadata": {},
   "outputs": [
    {
     "data": {
      "text/plain": [
       "<matplotlib.axes._subplots.AxesSubplot at 0x198a7f788c8>"
      ]
     },
     "execution_count": 6,
     "metadata": {},
     "output_type": "execute_result"
    },
    {
     "data": {
      "image/png": "[encoded data removed]",
      "text/plain": [
       "<Figure size 432x288 with 1 Axes>"
      ]
     },
     "metadata": {
      "needs_background": "light"
     },
     "output_type": "display_data"
    }
   ],
   "source": [
    "sns.distplot(data,kde=True,hist=True)"
   ]
  },
  {
   "cell_type": "code",
   "execution_count": 15,
   "metadata": {},
   "outputs": [
    {
     "name": "stdout",
     "output_type": "stream",
     "text": [
      "SD: 1.1224972160321822\n"
     ]
    }
   ],
   "source": [
    "prob,var=stats.binom.stats(n=6,p=0.3)\n",
    "print(\"SD:\",var**0.5)"
   ]
  },
  {
   "cell_type": "markdown",
   "metadata": {},
   "source": [
    "Q6. Gaurav and Barakha are both preparing for entrance exams. Gaurav attempts to\n",
    "solve 8 questions per day with a correction rate of 75%, while Barakha averages\n",
    "around 12 questions per day with a correction rate of 45%. What is the probability\n",
    "that each of them will solve 5 questions correctly? What happens in cases of 4 and 6\n",
    "correct solutions? What do you infer from it? What are the two main governing\n",
    "factors affecting their ability to solve questions correctly? Give a pictorial\n",
    "representation of the same to validate your answer."
   ]
  },
  {
   "cell_type": "code",
   "execution_count": 19,
   "metadata": {},
   "outputs": [
    {
     "name": "stdout",
     "output_type": "stream",
     "text": [
      "Gaurav for 5 Questions 0.2076416015625\n",
      "Barkha for 5 Questions 0.22249823843265837\n",
      "Gaurav for 4 Questions 0.086517333984375\n",
      "Barkha for 6 Questions 0.2123846821402648\n"
     ]
    }
   ],
   "source": [
    "def binom(n,p,r):\n",
    "    return math.factorial(n)/(math.factorial(r)*math.factorial(n-r))*p**r*(1-p)**(n-r)\n",
    "print(\"Gaurav for 5 Questions\",binom(8,0.75,5))\n",
    "print(\"Barkha for 5 Questions\",binom(12,0.45,5))\n",
    "print(\"Gaurav for 4 Questions\",binom(8,0.75,4))\n",
    "print(\"Barkha for 6 Questions\",binom(12,0.45,6))"
   ]
  },
  {
   "cell_type": "markdown",
   "metadata": {},
   "source": [
    "<p>->Inference: The PDF of Barkha is more symmectric in nature as compared to Gaurav</p>"
   ]
  },
  {
   "cell_type": "code",
   "execution_count": 21,
   "metadata": {},
   "outputs": [
    {
     "data": {
      "image/png": "[encoded data removed]",
      "text/plain": [
       "<Figure size 432x288 with 1 Axes>"
      ]
     },
     "metadata": {
      "needs_background": "light"
     },
     "output_type": "display_data"
    }
   ],
   "source": [
    "gaurav=stats.binom.rvs(n=8,p=0.75,size=1000)\n",
    "barkha=stats.binom.rvs(n=12,p=0.45,size=1000)\n",
    "import matplotlib.pyplot as plt\n",
    "sns.distplot(gaurav,kde=True,hist=True,label=\"Gaurav\")\n",
    "sns.distplot(barkha,kde=True,hist=True,color=\"red\",label=\"Barkha\")\n",
    "plt.legend()\n",
    "plt.show()"
   ]
  },
  {
   "cell_type": "markdown",
   "metadata": {},
   "source": [
    "Q7. Customers arrive at a rate of 72 per hour to my shop. What is the probability of k\n",
    "customers arriving in 4 minutes? a) 5 customers, b) not more than 3 customers, c)\n",
    "more than 3 customers. Give a pictorial representation of the same to validate your\n",
    "answer."
   ]
  },
  {
   "cell_type": "code",
   "execution_count": 37,
   "metadata": {},
   "outputs": [],
   "source": [
    "def poission(meu,x):\n",
    "    return math.exp(-meu)*(meu**x)/math.factorial(x)\n",
    "\n",
    "rate= 72"
   ]
  },
  {
   "cell_type": "code",
   "execution_count": 38,
   "metadata": {},
   "outputs": [
    {
     "name": "stdout",
     "output_type": "stream",
     "text": [
      "For 5 Customers: 8.675180887056061e-25\n"
     ]
    }
   ],
   "source": [
    "#CASE 1\n",
    "print(\"For 5 Customers:\",poission(rate,5))"
   ]
  },
  {
   "cell_type": "code",
   "execution_count": 39,
   "metadata": {},
   "outputs": [
    {
     "name": "stdout",
     "output_type": "stream",
     "text": [
      "For not more than 3 Customers: 3.490288167590513e-27\n"
     ]
    }
   ],
   "source": [
    "#CASE 2\n",
    "a=poission(rate,0)+poission(rate,1)+poission(rate,2)+poission(rate,3)\n",
    "print(\"For not more than 3 Customers:\",a)"
   ]
  },
  {
   "cell_type": "code",
   "execution_count": 42,
   "metadata": {},
   "outputs": [
    {
     "name": "stdout",
     "output_type": "stream",
     "text": [
      "For more than 3 1.0\n"
     ]
    }
   ],
   "source": [
    "#CASE 3\n",
    "print(\"For more than 3\",1-a-poission(rate,3))"
   ]
  },
  {
   "cell_type": "code",
   "execution_count": 41,
   "metadata": {},
   "outputs": [
    {
     "data": {
      "text/plain": [
       "<matplotlib.axes._subplots.AxesSubplot at 0x198a8271288>"
      ]
     },
     "execution_count": 41,
     "metadata": {},
     "output_type": "execute_result"
    },
    {
     "data": {
      "image/png": "[encoded data removed]",
      "text/plain": [
       "<Figure size 432x288 with 1 Axes>"
      ]
     },
     "metadata": {
      "needs_background": "light"
     },
     "output_type": "display_data"
    }
   ],
   "source": [
    "#PLOTTING THIS CASE\n",
    "data_binom = stats.poisson.rvs(mu=rate, size=10000)\n",
    "sns.distplot(data_binom,kde=True)"
   ]
  },
  {
   "cell_type": "markdown",
   "metadata": {},
   "source": [
    "Q8. Same as Q4"
   ]
  },
  {
   "cell_type": "markdown",
   "metadata": {},
   "source": [
    "Q9. Please compute the following:\n",
    "<p>a) P(Z > 1.26), . P(Z < −0.86), P(Z > −1.37), P(−1.25 < Z < 0.37), . P(Z ≤ −4.6)</p>\n",
    "<p>b) Find the value z such that P(Z > z) = 0.05</p>\n",
    "<p>c) Find the value of z such that P(−z < Z < z) = 0.99</p>"
   ]
  },
  {
   "cell_type": "code",
   "execution_count": 43,
   "metadata": {},
   "outputs": [],
   "source": [
    "# ALL ARE FOR 5% Significant level\n",
    "# a)P(z>1.26)=P(z<-1.26)=\"0.1565\"\n",
    "#   P(z<-0.86)=\"0.197\"\n",
    "#   P(z>-1.37)=P(z<1.37)=\"0.911\"\n",
    "#   P(−1.25 < Z < 0.37)= P(z<-1.25)+P(z>0.37)=P(z<-1.25)+P(z<-0.37)=0.105+0.366=0.471"
   ]
  },
  {
   "cell_type": "code",
   "execution_count": 45,
   "metadata": {},
   "outputs": [],
   "source": [
    "# b) 0.5-0.05=0.45 to covert our significant to confidence level\n",
    "#  So Z score of 0.05=Z score of 0.45= 1.6+0.04=1.64"
   ]
  },
  {
   "cell_type": "code",
   "execution_count": null,
   "metadata": {},
   "outputs": [],
   "source": [
    "# c) P(−z < Z < z) = 0.99\n",
    "# P(Z>-z)+P(Z<z)=0.99\n",
    "# P(Z<z)+P(Z<z)=0.99\n",
    "# 2P(Z<z)=0.99\n",
    "# P(Z<z)=0.495\n",
    "# ans=2.756"
   ]
  },
  {
   "cell_type": "markdown",
   "metadata": {},
   "source": [
    "Q10. The current flow in a copper wire follow a normal distribution with a mean of 10 mA\n",
    "and a variance of 4 (mA)2.\n",
    "What is the probability that a current measurement will exceed 13 mA? What is the\n",
    "probability that a current measurement is between 9 and 11mA? Determine the\n",
    "current measurement which has a probability of 0.98."
   ]
  },
  {
   "cell_type": "code",
   "execution_count": 3,
   "metadata": {},
   "outputs": [
    {
     "name": "stdout",
     "output_type": "stream",
     "text": [
      "\n"
     ]
    }
   ],
   "source": [
    "# P(X>13)=P((X-12)/3>(13-10)/3)=P(Z>1)\n",
    "# = 1 − P(Z ≤ 1)\n",
    "# = 1 − 0.841345 = 0.158655."
   ]
  },
  {
   "cell_type": "code",
   "execution_count": 4,
   "metadata": {},
   "outputs": [],
   "source": [
    "# P(9 < X < 11) = P((9 − 10)/3<(X − 10)/3<(11 − 10)/3) = P(−1 < Z < 1)\n",
    "# P(Z < 1) − P(Z ≤ −1) = 0.841345 − 0.158655 = 0.68269."
   ]
  },
  {
   "cell_type": "code",
   "execution_count": null,
   "metadata": {},
   "outputs": [],
   "source": [
    "# P(X < x) = P((X − 10)/3<(x − 10)/3) = P(Z < (x − 10)/3) = 0.98.\n",
    "# (x-10)/3=2.094\n",
    "# x=16.282 mA"
   ]
  },
  {
   "cell_type": "markdown",
   "metadata": {},
   "source": [
    "Q11.The shaft in a piston has its diameter normally distributed with a mean of 0.2508 inch\n",
    "and a standard deviation of 0.0005 inch. The specifications of the shaft are 0.2500 ∓\n",
    "0.0015 inch. What proportion of shafts are in sync with the specifications? If the\n",
    "process is centered so that the mean is equal to the target value of 0.2500, what\n",
    "proportion of shafts conform to the new specifications? What is your conclusion from\n",
    "this experiment?"
   ]
  },
  {
   "cell_type": "code",
   "execution_count": null,
   "metadata": {},
   "outputs": [],
   "source": [
    "# Z = (X - mean)/sd =(X - 0.2508)/0.0005\n",
    "# P ( 0.2485<X<0.2515 )=P ( −4.6<Z<1.4 )= 0.9192"
   ]
  }
 ],
 "metadata": {
  "kernelspec": {
   "display_name": "Python 3",
   "language": "python",
   "name": "python3"
  },
  "language_info": {
   "codemirror_mode": {
    "name": "ipython",
    "version": 3
   },
   "file_extension": ".py",
   "mimetype": "text/x-python",
   "name": "python",
   "nbconvert_exporter": "python",
   "pygments_lexer": "ipython3",
   "version": "3.7.4"
  }
 },
 "nbformat": 4,
 "nbformat_minor": 2
}
