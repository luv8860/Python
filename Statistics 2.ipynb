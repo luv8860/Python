{
 "cells": [
  {
   "cell_type": "markdown",
   "metadata": {},
   "source": [
    "Q1.<p> In each of the following situations, state whether it is a correctly stated hypothesis\n",
    "testing problem and why?</p>\n",
    "<p>1. H0: μ = 25, H1: μ ≠ 25</p>\n",
    "<p>2. H0: σ > 10, H1: σ = 10</p>\n",
    "<p>3. H0: x = 50, H1: x ≠ 50</p>\n",
    "<p>4. H0: p = 0.1, H1: p = 0.5</p>\n",
    "<p>5. H0: s = 30, H1: s > 30</p>"
   ]
  },
  {
   "cell_type": "code",
   "execution_count": 1,
   "metadata": {},
   "outputs": [],
   "source": [
    "# 1. Yes because first statement is null hypothesis and other is alternate hypothesis\n",
    "# 2. No because if the null hypothesis has condition > the alternate hypothesis should have<=\n",
    "# 3.NO because hypothesis talks about the statements about population or distribution and not about the sample\n",
    "# 4.No because value of both the hypothesis is different\n",
    "# 5.NO because hypothesis talks about the statements about population or distribution and not about the sample"
   ]
  },
  {
   "cell_type": "markdown",
   "metadata": {},
   "source": [
    "Q2. The college bookstore tells prospective students that the average cost of its\n",
    "textbooks is Rs. 52 with a standard deviation of Rs. 4.50. A group of smart statistics\n",
    "students thinks that the average cost is higher. To test the bookstore’s claim against\n",
    "their alternative, the students will select a random sample of size 100. Assume that\n",
    "the mean from their random sample is Rs. 52.80. Perform a hypothesis test at the\n",
    "5% level of significance and state your decision."
   ]
  },
  {
   "cell_type": "code",
   "execution_count": 4,
   "metadata": {},
   "outputs": [],
   "source": [
    "#H0:pop mean =52\n",
    "#H1:pop mean !=52\n",
    "#Significance level=5%\n",
    "#given  pop mean=52\n",
    "#       sample mean=52.80\n",
    "#       SD=4.5\n",
    "#       Sample size= 100\n",
    "#z score for single mean= (xbar-meu)/(sigma/root of n)\n",
    "# z=1.7777777777777715\n",
    "# since |z|<1.96\n",
    "# so null hypothesis is accepted i.e population mean is 52 "
   ]
  },
  {
   "cell_type": "markdown",
   "metadata": {},
   "source": [
    "Q3. A certain chemical pollutant in the Genesee River has been constant for several\n",
    "years with mean μ = 34 ppm (parts per million) and standard deviation σ = 8 ppm. A\n",
    "group of factory representatives whose companies discharge liquids into the river is\n",
    "now claiming that they have lowered the average with improved filtration devices. A\n",
    "group of environmentalists will test to see if this is true at the 1% level of\n",
    "significance. Assume \\ that their sample of size 50 gives a mean of 32.5 ppm.\n",
    "Perform a hypothesis test at the 1% level of significance and state your decision."
   ]
  },
  {
   "cell_type": "code",
   "execution_count": 6,
   "metadata": {},
   "outputs": [],
   "source": [
    "#H0:pop mean =34\n",
    "#H1:pop mean !=34\n",
    "#Significance level=1%\n",
    "#given  pop mean=34ppm\n",
    "#       sample mean=32.5\n",
    "#       SD=8ppm\n",
    "#       Sample size= 50\n",
    "#z score for single mean= (xbar-meu)/(sigma/root of n)\n",
    "# |z|=1.32\n",
    "# since |z|<2.58\n",
    "# so null hypothesis is accepted i.e population mean is 34 "
   ]
  },
  {
   "cell_type": "markdown",
   "metadata": {},
   "source": [
    "Q4. <p>Based on population figures and other general information on the U.S. population,\n",
    "suppose it has been estimated that, on average, a family of four in the U.S. spends\n",
    "about $1135 annually on dental expenditures. Suppose further that a regional dental\n",
    "association wants to test to determine if this figure is accurate for their area of\n",
    "country. To test this, 22 families of 4 are randomly selected from the population in\n",
    "that area of the country and a log is kept of the family’s dental expenditure for one\n",
    "year. The resulting data are given below. Assuming, that dental expenditure is\n",
    "normally distributed in the population, use the data and an alpha of 0.5 to test the\n",
    "dental association’s hypothesis.</p>\n",
    "<p>1008, 812, 1117, 1323, 1308, 1415, 831, 1021, 1287, 851, 930, 730, 699,</p>\n",
    "<p>872, 913, 944, 954, 987, 1695, 995, 1003, 994</p>"
   ]
  },
  {
   "cell_type": "code",
   "execution_count": 7,
   "metadata": {},
   "outputs": [
    {
     "name": "stdout",
     "output_type": "stream",
     "text": [
      "1008, 812, 1117, 1323, 1308, 1415, 831, 1021, 1287, 851, 930, 730, 699,872, 913, 944, 954, 987, 1695, 995, 1003, 994\n",
      "Sample mean:  1031.3181818181818\n"
     ]
    }
   ],
   "source": [
    "sample=list(map(int,input().split(',')))\n",
    "print(\"Sample mean: \",sum(sample)/len(sample))"
   ]
  },
  {
   "cell_type": "code",
   "execution_count": 8,
   "metadata": {},
   "outputs": [
    {
     "name": "stdout",
     "output_type": "stream",
     "text": [
      "SD: 240.37458593184255\n"
     ]
    }
   ],
   "source": [
    "variance=0\n",
    "for i in sample:\n",
    "    variance+=(i-1031.32)**2\n",
    "variance/=(len(sample)-1)\n",
    "print(\"SD:\",variance**0.5)"
   ]
  },
  {
   "cell_type": "code",
   "execution_count": null,
   "metadata": {},
   "outputs": [],
   "source": [
    "#H0:pop mean =1135\n",
    "#H1:pop mean !=1135\n",
    "#Significance level=5%\n",
    "#given  pop mean=1135\n",
    "#       sample mean=1031.32\n",
    "#       SD= 240.37\n",
    "#       Sample size= 50\n",
    "#z score for single mean= (xbar-meu)/(sigma/root of n)\n",
    "# |z|=3.06\n",
    "# z>1.96\n",
    "# hence null hypothesis is rejected"
   ]
  },
  {
   "cell_type": "markdown",
   "metadata": {},
   "source": [
    "Q5. In a report prepared by the Economic Research Department of a major bank the\n",
    "Department manager maintains that the average annual family income on Metropolis\n",
    "is 48432 dollers. What do you conclude about the validity of the report if a random sample\n",
    "of 400 families shows and average income of 48574 doller with a standard deviation of\n",
    "2000?"
   ]
  },
  {
   "cell_type": "code",
   "execution_count": null,
   "metadata": {},
   "outputs": [],
   "source": [
    "#H0:pop mean =48432 \n",
    "#H1:pop mean !=48432 \n",
    "#Significance level=5%\n",
    "#given  pop mean=48432\n",
    "#       sample mean=48574\n",
    "#       SD= 2000\n",
    "#       Sample size= 400\n",
    "#z score for single mean= (xbar-meu)/(sigma/root of n)\n",
    "# |z|=1.42\n",
    "# z<1.96\n",
    "# hence null hypothesis is accepted"
   ]
  },
  {
   "cell_type": "markdown",
   "metadata": {},
   "source": [
    "Q6. Suppose that in past years the average price per square foot for warehouses in the\n",
    "United States has been 32.28. A national real estate investor wants to determine\n",
    "whether that figure has changed now. The investor hires a researcher who randomly\n",
    "samples 19 warehouses that are for sale across the United States and finds that the\n",
    "mean price per square foot is 31.67, with a standard deviation of $1.29. assume\n",
    "that the prices of warehouse footage are normally distributed in population. If the\n",
    "researcher uses a 5 percent level of significance, what statistical conclusion can be\n",
    "reached? What are the hypotheses?"
   ]
  },
  {
   "cell_type": "code",
   "execution_count": 11,
   "metadata": {},
   "outputs": [],
   "source": [
    "#H0:pop mean =32.28\n",
    "#H1:pop mean !=32.28\n",
    "#Significance level=5%\n",
    "#given  pop mean=32.28\n",
    "#       sample mean=31.67\n",
    "#       SD= 1.29\n",
    "#       Sample size= 19\n",
    "#z score for single mean= (xbar-meu)/(sigma/root of n)\n",
    "# |z|=2.1\n",
    "# z>1.96\n",
    "# hence null hypothesis is rejected"
   ]
  },
  {
   "cell_type": "markdown",
   "metadata": {},
   "source": [
    "Q8.Find the t-score for a sample size of 16 taken from a population with mean 10 when\n",
    "the sample mean is 12 and the sample standard deviation is 1.5"
   ]
  },
  {
   "cell_type": "code",
   "execution_count": 12,
   "metadata": {},
   "outputs": [],
   "source": [
    "# n=16\n",
    "# xbar=12\n",
    "# meu=10\n",
    "# S=1.5\n",
    "# t=(xbar-meu)/(s/root of n)\n",
    "# t= -5.33"
   ]
  },
  {
   "cell_type": "markdown",
   "metadata": {},
   "source": [
    "Q9. Find the t-score below which we can expect 99% of sample means will fall if samples\n",
    "of size 16 are taken from a normally distributed population."
   ]
  },
  {
   "cell_type": "code",
   "execution_count": 14,
   "metadata": {},
   "outputs": [],
   "source": [
    "# df=16-1=15\n",
    "# 99 % confidence= 1% Significance\n",
    "# -t(0.01)=-2.602"
   ]
  },
  {
   "cell_type": "markdown",
   "metadata": {},
   "source": [
    "Q10. If a random sample of size 25 drawn from a normal population gives a mean of 60\n",
    "and a standard deviation of 4, find the range of t-scores where we can expect to find\n",
    "the middle 95% of all sample means. Compute the probability that (−t0.05 <t<t0.10)."
   ]
  },
  {
   "cell_type": "code",
   "execution_count": 16,
   "metadata": {},
   "outputs": [],
   "source": [
    "# n=25\n",
    "# meu=60\n",
    "# S=4\n",
    "# df=25-1=24\n",
    "# t(0.05) for df=24==1.711\n",
    "# t(0.1) for df=24==1.32\n",
    "# so range is -1.711<t<1.32"
   ]
  },
  {
   "cell_type": "markdown",
   "metadata": {},
   "source": [
    "Q11. <p>Two-tailed test for difference between two population means\n",
    "Is there evidence to conclude that the number of people travelling from Bangalore to\n",
    "Chennai is different from the number of people travelling from Bangalore to Hosur in\n",
    "a week, given the following:</p>\n",
    "<p>Population 1: Bangalore to Chennai n1 = 1200</p>\n",
    "<p>x1 = 452</p>\n",
    "<p>s1 = 212</p>\n",
    "<p>Population 2: Bangalore to Hosur n2 = 800</p>\n",
    "<p>x2 = 523</p>\n",
    "<p>s2 = 185</p>"
   ]
  },
  {
   "cell_type": "code",
   "execution_count": 19,
   "metadata": {},
   "outputs": [],
   "source": [
    "# h0 the difference is not significant\n",
    "# h1 the difference is significant\n",
    "# Population 1: Bangalore to Chennai n1 = 1200\n",
    "# x1 = 452\n",
    "# s1 = 212\n",
    "# Population 2: Bangalore to Hosur n2 = 800\n",
    "# x2 = 523\n",
    "# s2 = 185\n",
    "# Z score for difference of mean drawn from different population=> \n",
    "#     z=(x1 bar -x2 bar)/(root(((s1**2/n1)+(s2**2/n2))))\n",
    "# |z|=7.93\n",
    "# since z>1.96\n",
    "# H0 is rejected so the difference of mean is significant"
   ]
  },
  {
   "cell_type": "markdown",
   "metadata": {},
   "source": [
    "Q12 Is there evidence to conclude that the number of people preferring Duracell battery is\n",
    "different from the number of people preferring Energizer battery, given the following:\n",
    "Population 1: Duracell\n",
    "n1 = 100\n",
    "x1 = 308\n",
    "s1 = 84\n",
    "Population 2: Energizer\n",
    "n2 = 100\n",
    "x2 = 254\n",
    "s2 = 67"
   ]
  },
  {
   "cell_type": "code",
   "execution_count": 21,
   "metadata": {},
   "outputs": [],
   "source": [
    "# h0 the difference of mean is not significant\n",
    "# h1 the difference of mean is significant\n",
    "# Population 1: Duracell\n",
    "# n1 = 100\n",
    "# x1 = 308\n",
    "# s1 = 84\n",
    "# Population 2: Energizer\n",
    "# n2 = 100\n",
    "# x2 = 254\n",
    "# s2 = 67\n",
    "# Z score for difference of mean drawn from different population=>(since population>30) \n",
    "#     z=(x1 bar -x2 bar)/(root(((s1**2/n1)+(s2**2/n2))))\n",
    "#z=1.35\n",
    "#since z<1.96\n",
    "#so null hypothesis is accepted"
   ]
  },
  {
   "cell_type": "markdown",
   "metadata": {},
   "source": [
    "Q13.<p>Pooled estimate of the population variance\n",
    "<p>Does the data provide sufficient evidence to conclude that average percentage\n",
    "increase in the price of sugar differs when it is sold at two different prices?</p>\n",
    "<p>Population 1: Price of sugar = Rs. 27.50 n1 = 14</p>\n",
    "<p>x1 = 0.317%</p>\n",
    "<p>s1 = 0.12%</p>\n",
    "<p>Population 2: Price of sugar = Rs. 20.00 n2 = 9</p>\n",
    "<p>x2 = 0.21%</p>\n",
    "<p>s2 = 0.11%</p>"
   ]
  },
  {
   "cell_type": "code",
   "execution_count": null,
   "metadata": {},
   "outputs": [],
   "source": [
    "# h0 the average percentage increase\n",
    "# h1 the average percentage  does not increase\n",
    "# Population 1: Price of sugar = Rs. 27.50 n1 = 14\n",
    "# x1 = 0.317%\n",
    "# s1 = 0.12%\n",
    "# Population 2: Price of sugar = Rs. 20.00 n2 = 9\n",
    "# x2 = 0.21%\n",
    "# s2 = 0.11%\n",
    "# t score for difference of mean drawn two small samples =>(since population<30)\n",
    "# t= (xbar-ybar)/(S*root((1/n1)+(1/n2))) where S**2=(n1s1**2+n2s2**2)/(n1+n2-2)\n",
    "# t= 2.07\n",
    "# Since t(0.05)>1.72"
   ]
  },
  {
   "cell_type": "markdown",
   "metadata": {},
   "source": [
    "Q14 <p>The manufacturers of compact disk players want to test whether a small price\n",
    "reduction is enough to increase sales of their product. Is there evidence that the\n",
    "small price reduction is enough to increase sales of compact disk players?</p>\n",
    "<p>Population 1: Before reduction</p>\n",
    "<p>n1 = 15</p>\n",
    "<p>x1 = Rs. 6598 s1 = Rs. 844</p>\n",
    "<p>Population 2: After reduction n2 = 12</p>\n",
    "<p>x2 = RS. 6870</p>\n",
    "<p>s2 = Rs. 669</p>"
   ]
  },
  {
   "cell_type": "code",
   "execution_count": 30,
   "metadata": {},
   "outputs": [],
   "source": [
    "# h0  small price reduction is enough to increase sales of their product\n",
    "# h1  small price reduction is not enough to increase sales of their product\n",
    "# Population 1: Before reduction\n",
    "# n1 = 15\n",
    "# x1 = Rs. 6598 s1 = Rs. 844\n",
    "# Population 2: After reduction n2 = 12\n",
    "# x2 = RS. 6870\n",
    "# s2 = Rs. 669\n",
    "# t score for difference of mean drawn two small samples =>(since population<30)\n",
    "# t= (xbar-ybar)/(S*root((1/n1)+(1/n2))) where S**2=(n1s1**2+n2s2**2)/(n1+n2-2)\n",
    "# t=0.88\n",
    "# Since t(0.05)<1.708\n",
    "# So null hypothesis is accepted"
   ]
  },
  {
   "cell_type": "markdown",
   "metadata": {},
   "source": [
    "Q15. <p>Comparisons of two population proportions when the hypothesized difference is zero\n",
    "Carry out a two-tailed test of the equality of banks’ share of the car loan market in\n",
    "1980 and 1995.</p>\n",
    "<p>Population 1: 1980</p>\n",
    "<p>n1 = 1000</p>\n",
    "<p>x1 = 53</p>\n",
    "<p>p 1 = 0.53</p>\n",
    "<p>Population 2: 1985</p>\n",
    "<p>n2 = 100</p>\n",
    "<p>x2 = 43</p>\n",
    "<p>p 2= 0.53</p>"
   ]
  },
  {
   "cell_type": "code",
   "execution_count": null,
   "metadata": {},
   "outputs": [],
   "source": [
    "# h0 the difference of mean is not significant\n",
    "# h1 the difference of mean is significant\n",
    "# Population 1: 1980\n",
    "# n1 = 1000\n",
    "# x1 = 53\n",
    "# p 1 = 0.53\n",
    "# Population 2: 1985\n",
    "# n2 = 100\n",
    "# x2 = 43\n",
    "# p 2= 0.53\n",
    "# so z score for difference of proportion from two poulation z=(p1-p2)/(PQ*root(((1/n1)+(1/n2))))\n",
    "# where p=(n1p1+n2p2)/(n1+n2) and q=1-p\n",
    "# z=0\n",
    "# since z<1.96 so null hypothesis is accepted"
   ]
  },
  {
   "cell_type": "markdown",
   "metadata": {},
   "source": [
    "Q16.<p>Carry out a one-tailed test to determine whether the population proportion of\n",
    "traveler’s check buyers who buy at least 2500 dollar in checks when sweepstakes prizes\n",
    "are offered as at least 10 percent higher than the proportion of such buyers when no\n",
    "sweepstakes are on.</p>\n",
    "<p>Population 1: With sweepstakes</p>\n",
    "<p>n1 = 300</p>\n",
    "<p>x1 = 120</p>\n",
    "<p>p = 0.40</p>\n",
    "<p>Population 2: No sweepstakes n2 = 700</p>\n",
    "<p>x2 = 140</p>\n",
    "<p>p 2= 0.20</p>"
   ]
  },
  {
   "cell_type": "code",
   "execution_count": null,
   "metadata": {},
   "outputs": [],
   "source": [
    "# h0 the difference of mean is not significant\n",
    "# h1 the difference of mean is significant\n",
    "# Population 1: With sweepstakes\n",
    "# n1 = 300\n",
    "# x1 = 120\n",
    "# p = 0.40\n",
    "# Population 2: No sweepstakes n2 = 700\n",
    "# x2 = 140\n",
    "# p 2= 0.20\n",
    "# so z score for difference of proportion from two poulation z=(p1-p2)/(PQ*root(((1/n1)+(1/n2))))\n",
    "# where p=(n1p1+n2p2)/(n1+n2) and q=1-p\n",
    "# z=6.64\n",
    "# since z>1.96 so null hypothesis is accepted"
   ]
  },
  {
   "cell_type": "markdown",
   "metadata": {},
   "source": [
    "Q17. A die is thrown 132 times with the following results: Number turned up: 1, 2, 3, 4, 5, 6\n",
    "Frequency: 16, 20, 25, 14, 29, 28\n",
    "Is the die unbiased? Consider the degrees of freedom as p −1 ."
   ]
  },
  {
   "cell_type": "code",
   "execution_count": 1,
   "metadata": {},
   "outputs": [],
   "source": [
    "# h0 the dice is unbiased\n",
    "# h1 the dice is biased"
   ]
  },
  {
   "cell_type": "code",
   "execution_count": 8,
   "metadata": {},
   "outputs": [
    {
     "data": {
      "text/html": [
       "<div>\n",
       "<style scoped>\n",
       "    .dataframe tbody tr th:only-of-type {\n",
       "        vertical-align: middle;\n",
       "    }\n",
       "\n",
       "    .dataframe tbody tr th {\n",
       "        vertical-align: top;\n",
       "    }\n",
       "\n",
       "    .dataframe thead th {\n",
       "        text-align: right;\n",
       "    }\n",
       "</style>\n",
       "<table border=\"1\" class=\"dataframe\">\n",
       "  <thead>\n",
       "    <tr style=\"text-align: right;\">\n",
       "      <th></th>\n",
       "      <th>observed</th>\n",
       "      <th>expected</th>\n",
       "      <th>o-e square</th>\n",
       "    </tr>\n",
       "  </thead>\n",
       "  <tbody>\n",
       "    <tr>\n",
       "      <th>0</th>\n",
       "      <td>16</td>\n",
       "      <td>22</td>\n",
       "      <td>36</td>\n",
       "    </tr>\n",
       "    <tr>\n",
       "      <th>1</th>\n",
       "      <td>20</td>\n",
       "      <td>22</td>\n",
       "      <td>4</td>\n",
       "    </tr>\n",
       "    <tr>\n",
       "      <th>2</th>\n",
       "      <td>25</td>\n",
       "      <td>22</td>\n",
       "      <td>9</td>\n",
       "    </tr>\n",
       "    <tr>\n",
       "      <th>3</th>\n",
       "      <td>14</td>\n",
       "      <td>22</td>\n",
       "      <td>64</td>\n",
       "    </tr>\n",
       "    <tr>\n",
       "      <th>4</th>\n",
       "      <td>29</td>\n",
       "      <td>22</td>\n",
       "      <td>49</td>\n",
       "    </tr>\n",
       "    <tr>\n",
       "      <th>5</th>\n",
       "      <td>28</td>\n",
       "      <td>22</td>\n",
       "      <td>36</td>\n",
       "    </tr>\n",
       "  </tbody>\n",
       "</table>\n",
       "</div>"
      ],
      "text/plain": [
       "   observed  expected  o-e square\n",
       "0        16        22          36\n",
       "1        20        22           4\n",
       "2        25        22           9\n",
       "3        14        22          64\n",
       "4        29        22          49\n",
       "5        28        22          36"
      ]
     },
     "execution_count": 8,
     "metadata": {},
     "output_type": "execute_result"
    }
   ],
   "source": [
    "import pandas as pd\n",
    "d={'observed':[16, 20, 25, 14, 29, 28]}\n",
    "df=pd.DataFrame(data=d)\n",
    "df['expected']=(sum(df['observed'])//6)\n",
    "df['o-e square']=(df['observed']-df['expected'])**2\n",
    "df"
   ]
  },
  {
   "cell_type": "code",
   "execution_count": 9,
   "metadata": {},
   "outputs": [
    {
     "data": {
      "text/plain": [
       "9.0"
      ]
     },
     "execution_count": 9,
     "metadata": {},
     "output_type": "execute_result"
    }
   ],
   "source": [
    "Xcal_square=sum(df['o-e square'])/22\n",
    "Xcal_square"
   ]
  },
  {
   "cell_type": "code",
   "execution_count": 13,
   "metadata": {},
   "outputs": [],
   "source": [
    "# Dof = n-1 = 6-1 =5\n",
    "# ∝=11.0705\n",
    "# Since X2cal<  (X∝)2\n",
    "# HO is accepted."
   ]
  },
  {
   "cell_type": "markdown",
   "metadata": {},
   "source": [
    "Q18.In a certain town, there are about one million eligible voters. A simple random\n",
    "sample of 10000 eligible voters was chosen to study the relationship between\n",
    "gender and participation in the last election. The results are summarized in the\n",
    "following 2X2 (read two by two) contingency table:"
   ]
  },
  {
   "cell_type": "code",
   "execution_count": 17,
   "metadata": {},
   "outputs": [
    {
     "name": "stdout",
     "output_type": "stream",
     "text": [
      "p value is 0.01047464310091866\n",
      "reject H0\n"
     ]
    }
   ],
   "source": [
    "from scipy.stats import chi2_contingency \n",
    "data = [[2792,1486], [3591,2131]] \n",
    "stat, p, dof, expected = chi2_contingency(data) \n",
    "  \n",
    "# interpret p-value \n",
    "alpha = 0.05\n",
    "print(\"p value is \" + str(p)) \n",
    "if p <= alpha: \n",
    "    print('reject H0') \n",
    "else: \n",
    "    print('H0 holds true') "
   ]
  },
  {
   "cell_type": "markdown",
   "metadata": {},
   "source": [
    "Q19. Children of three ages are asked to indicate their preference for three photographs of\n",
    "adults. Do the data suggest that there is a significant relationship between age and\n",
    "photograph preference? What is wrong with this study? Chi-Square = 29.6, with 4\n",
    "df: p < 0.05."
   ]
  },
  {
   "cell_type": "code",
   "execution_count": 18,
   "metadata": {},
   "outputs": [
    {
     "name": "stdout",
     "output_type": "stream",
     "text": [
      "p value is 5.894582174262628e-06\n",
      "reject H0\n"
     ]
    }
   ],
   "source": [
    "from scipy.stats import chi2_contingency \n",
    "data = [[18,2,20],[22,28,10],[20,40,40]] \n",
    "stat, p, dof, expected = chi2_contingency(data) \n",
    "  \n",
    "# interpret p-value \n",
    "alpha = 0.05\n",
    "print(\"p value is \" + str(p)) \n",
    "if p <= alpha: \n",
    "    print('reject H0') \n",
    "else: \n",
    "    print('H0 holds true') "
   ]
  },
  {
   "cell_type": "markdown",
   "metadata": {},
   "source": [
    "Q20. A study of conformity using the Asch paradigm involved two conditions: one where\n",
    "one confederate supported the true judgement and another where no confederate\n",
    "gave the correct response."
   ]
  },
  {
   "cell_type": "code",
   "execution_count": 19,
   "metadata": {},
   "outputs": [
    {
     "name": "stdout",
     "output_type": "stream",
     "text": [
      "p value is 0.11914254726024916\n",
      "H0 holds true\n"
     ]
    }
   ],
   "source": [
    "from scipy.stats import chi2_contingency \n",
    "data = [[18,22], [20,10]] \n",
    "stat, p, dof, expected = chi2_contingency(data) \n",
    "  \n",
    "# interpret p-value \n",
    "alpha = 0.05\n",
    "print(\"p value is \" + str(p)) \n",
    "if p <= alpha: \n",
    "    print('reject H0') \n",
    "else: \n",
    "    print('H0 holds true') "
   ]
  },
  {
   "cell_type": "markdown",
   "metadata": {},
   "source": [
    "Q22 We want to test whether short people differ with respect to their leadership qualities\n",
    "(Genghis Khan, Adolf Hitler and Napoleon were all stature-deprived, and how many midget\n",
    "MP's are there?) The following table shows the frequencies with which 43 short people and\n",
    "52 tall people were categorized as \"leaders\", \"followers\" or as \"unclassifiable\". Is there a\n",
    "relationship between height and leadership qualities?"
   ]
  },
  {
   "cell_type": "code",
   "execution_count": 20,
   "metadata": {},
   "outputs": [
    {
     "name": "stdout",
     "output_type": "stream",
     "text": [
      "p value is 0.004719280137040844\n",
      "reject H0\n"
     ]
    }
   ],
   "source": [
    "from scipy.stats import chi2_contingency \n",
    "data = [[12,22,9], [32,14,6]] \n",
    "stat, p, dof, expected = chi2_contingency(data) \n",
    "  \n",
    "# interpret p-value \n",
    "alpha = 0.05\n",
    "print(\"p value is \" + str(p)) \n",
    "if p <= alpha: \n",
    "    print('reject H0') \n",
    "else: \n",
    "    print('H0 holds true') "
   ]
  },
  {
   "cell_type": "markdown",
   "metadata": {},
   "source": [
    "Q23.Each respondent in the Current Population Survey of March 1993 was classified as\n",
    "employed, unemployed, or outside the labor force. The results for men in California age 35-\n",
    "44 can be cross-tabulated by marital status, as follows:"
   ]
  },
  {
   "cell_type": "code",
   "execution_count": 21,
   "metadata": {},
   "outputs": [
    {
     "name": "stdout",
     "output_type": "stream",
     "text": [
      "p value is 2.2949883042859918e-06\n",
      "reject H0\n"
     ]
    }
   ],
   "source": [
    "from scipy.stats import chi2_contingency \n",
    "data = [[679,63,42], [103,10,18],[114,20,25]] \n",
    "stat, p, dof, expected = chi2_contingency(data) \n",
    "  \n",
    "# interpret p-value \n",
    "alpha = 0.05\n",
    "print(\"p value is \" + str(p)) \n",
    "if p <= alpha: \n",
    "    print('reject H0') \n",
    "else: \n",
    "    print('H0 holds true') "
   ]
  },
  {
   "cell_type": "code",
   "execution_count": null,
   "metadata": {},
   "outputs": [],
   "source": []
  }
 ],
 "metadata": {
  "kernelspec": {
   "display_name": "Python 3",
   "language": "python",
   "name": "python3"
  },
  "language_info": {
   "codemirror_mode": {
    "name": "ipython",
    "version": 3
   },
   "file_extension": ".py",
   "mimetype": "text/x-python",
   "name": "python",
   "nbconvert_exporter": "python",
   "pygments_lexer": "ipython3",
   "version": "3.7.4"
  }
 },
 "nbformat": 4,
 "nbformat_minor": 2
}
